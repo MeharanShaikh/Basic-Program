{
 "cells": [
  {
   "cell_type": "code",
   "execution_count": 1,
   "id": "7a8a0e0c",
   "metadata": {},
   "outputs": [
    {
     "name": "stdout",
     "output_type": "stream",
     "text": [
      "Enter your name: Meharan\n",
      "Hello, Meharan! Please enter three numbers.\n",
      "Enter the first number: 8\n",
      "Enter the second number: 3\n",
      "Enter the third number: 9\n",
      "\n",
      "Results:\n",
      "The sum of the three numbers is: 20.0\n",
      "The average of the three numbers is: 6.666666666666667\n"
     ]
    }
   ],
   "source": [
    "# Step 1: Reading input\n",
    "name = input(\"Enter your name: \")\n",
    "\n",
    "# Step 2: Prompting for three numbers and converting them to floats\n",
    "print(\"Hello, \" + name + \"! Please enter three numbers.\")\n",
    "num1 = float(input(\"Enter the first number: \"))\n",
    "num2 = float(input(\"Enter the second number: \"))\n",
    "num3 = float(input(\"Enter the third number: \"))\n",
    "\n",
    "# Step 3: Processing data (calculating sum and average)\n",
    "sum_of_numbers = num1 + num2 + num3\n",
    "average_of_numbers = sum_of_numbers / 3\n",
    "\n",
    "# Step 4: Producing output\n",
    "print(\"\\nResults:\")\n",
    "print(\"The sum of the three numbers is:\", sum_of_numbers)\n",
    "print(\"The average of the three numbers is:\", average_of_numbers)"
   ]
  },
  {
   "cell_type": "code",
   "execution_count": null,
   "id": "d1772f8d",
   "metadata": {},
   "outputs": [],
   "source": []
  }
 ],
 "metadata": {
  "kernelspec": {
   "display_name": "Python 3 (ipykernel)",
   "language": "python",
   "name": "python3"
  },
  "language_info": {
   "codemirror_mode": {
    "name": "ipython",
    "version": 3
   },
   "file_extension": ".py",
   "mimetype": "text/x-python",
   "name": "python",
   "nbconvert_exporter": "python",
   "pygments_lexer": "ipython3",
   "version": "3.10.9"
  }
 },
 "nbformat": 4,
 "nbformat_minor": 5
}
